{
 "cells": [
  {
   "cell_type": "code",
   "execution_count": 1,
   "metadata": {},
   "outputs": [],
   "source": [
    "def visualize_acc(filename):\n",
    "    import bokeh\n",
    "    from bokeh.plotting import figure,output_file,show\n",
    "    from bokeh.models import HoverTool,BoxSelectTool\n",
    "    output_file(\"acc.html\")\n",
    "    f = open(filename,'r')\n",
    "    lines = []\n",
    "    lines = f.readlines()\n",
    "    f.close()\n",
    "    #导出testacc的数据\n",
    "    testacc0 = []\n",
    "    for i in range(1,100):\n",
    "        x = i*2\n",
    "        a = \"\"\n",
    "        a = lines[x].rstrip().split(' ')[4]\n",
    "        testacc0.append(a)\n",
    "    testacc = []\n",
    "    for i in range(0,99):\n",
    "        b = testacc0[i].split(':')[1]\n",
    "        testacc.append(b)\n",
    "    #导出trainacc的数据\n",
    "    trainacc0 = []\n",
    "    for i in range(1,100):\n",
    "        y = i*2-1\n",
    "        a = \"\"\n",
    "        a = lines[y].rstrip().split(' ')[5]\n",
    "        trainacc0.append(a)\n",
    "    trainacc = []\n",
    "    for i in range(0,99):\n",
    "        b = trainacc0[i].split(':')[1]\n",
    "        trainacc.append(b)\n",
    "#做图\n",
    "    x = list(range(0,99))\n",
    "    p = figure(\n",
    "        plot_width=700,plot_height=400,\n",
    "        tools=\"pan,box_zoom,reset,save,hover\",\n",
    "        y_range=[0.000000000001, 1.1], title=\"acc line\")\n",
    "    p.xaxis.axis_label = 'epoch'\n",
    "    p.yaxis.axis_label = 'acc'\n",
    "    p.line(x,trainacc,legend=\"trainacc\",line_color=\"red\")\n",
    "    p.line(x,testacc,legend=\"testacc\",line_color=\"green\")\n",
    "    p.legend.location = \"top_left\"\n",
    "    show(p)\n",
    "if __name__ == '__main__':\n",
    "    visualize_acc('logorigin')"
   ]
  },
  {
   "cell_type": "code",
   "execution_count": null,
   "metadata": {},
   "outputs": [],
   "source": []
  },
  {
   "cell_type": "code",
   "execution_count": null,
   "metadata": {},
   "outputs": [],
   "source": []
  }
 ],
 "metadata": {
  "kernelspec": {
   "display_name": "Python 3",
   "language": "python",
   "name": "python3"
  },
  "language_info": {
   "codemirror_mode": {
    "name": "ipython",
    "version": 3
   },
   "file_extension": ".py",
   "mimetype": "text/x-python",
   "name": "python",
   "nbconvert_exporter": "python",
   "pygments_lexer": "ipython3",
   "version": "3.6.2"
  }
 },
 "nbformat": 4,
 "nbformat_minor": 2
}
